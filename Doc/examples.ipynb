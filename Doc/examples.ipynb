{
 "cells": [
  {
   "cell_type": "markdown",
   "metadata": {},
   "source": [
    "## Reading in a single endpoint"
   ]
  },
  {
   "cell_type": "code",
   "execution_count": 16,
   "metadata": {},
   "outputs": [],
   "source": [
    "from JUBioactivities.Tox21_Challenge.p53 import read_data, read_structures"
   ]
  },
  {
   "cell_type": "code",
   "execution_count": null,
   "metadata": {},
   "outputs": [],
   "source": [
    "a = read_data()"
   ]
  },
  {
   "cell_type": "code",
   "execution_count": 18,
   "metadata": {},
   "outputs": [
    {
     "data": {
      "text/html": [
       "<div>\n",
       "<style scoped>\n",
       "    .dataframe tbody tr th:only-of-type {\n",
       "        vertical-align: middle;\n",
       "    }\n",
       "\n",
       "    .dataframe tbody tr th {\n",
       "        vertical-align: top;\n",
       "    }\n",
       "\n",
       "    .dataframe thead th {\n",
       "        text-align: right;\n",
       "    }\n",
       "</style>\n",
       "<table border=\"1\" class=\"dataframe\">\n",
       "  <thead>\n",
       "    <tr style=\"text-align: right;\">\n",
       "      <th></th>\n",
       "      <th>SR_p53_Tox21</th>\n",
       "    </tr>\n",
       "    <tr>\n",
       "      <th>InchiKey</th>\n",
       "      <th></th>\n",
       "    </tr>\n",
       "  </thead>\n",
       "  <tbody>\n",
       "    <tr>\n",
       "      <th>ACIMRXKJKQGBGL-UHFFFAOYSA-N</th>\n",
       "      <td>0.0</td>\n",
       "    </tr>\n",
       "    <tr>\n",
       "      <th>ACQBHJXEAYTHCY-UHFFFAOYSA-N</th>\n",
       "      <td>NaN</td>\n",
       "    </tr>\n",
       "    <tr>\n",
       "      <th>ACVGNKYJVGNLIL-UHFFFAOYSA-O</th>\n",
       "      <td>0.0</td>\n",
       "    </tr>\n",
       "  </tbody>\n",
       "</table>\n",
       "</div>"
      ],
      "text/plain": [
       "                             SR_p53_Tox21\n",
       "InchiKey                                 \n",
       "ACIMRXKJKQGBGL-UHFFFAOYSA-N           0.0\n",
       "ACQBHJXEAYTHCY-UHFFFAOYSA-N           NaN\n",
       "ACVGNKYJVGNLIL-UHFFFAOYSA-O           0.0"
      ]
     },
     "execution_count": 18,
     "metadata": {},
     "output_type": "execute_result"
    }
   ],
   "source": [
    "a.head(n=3)"
   ]
  },
  {
   "cell_type": "code",
   "execution_count": null,
   "metadata": {},
   "outputs": [],
   "source": [
    "s = read_structures()"
   ]
  },
  {
   "cell_type": "code",
   "execution_count": 20,
   "metadata": {},
   "outputs": [
    {
     "data": {
      "text/html": [
       "<div>\n",
       "<style scoped>\n",
       "    .dataframe tbody tr th:only-of-type {\n",
       "        vertical-align: middle;\n",
       "    }\n",
       "\n",
       "    .dataframe tbody tr th {\n",
       "        vertical-align: top;\n",
       "    }\n",
       "\n",
       "    .dataframe thead th {\n",
       "        text-align: right;\n",
       "    }\n",
       "</style>\n",
       "<table border=\"1\" class=\"dataframe\">\n",
       "  <thead>\n",
       "    <tr style=\"text-align: right;\">\n",
       "      <th></th>\n",
       "      <th>Smiles</th>\n",
       "    </tr>\n",
       "  </thead>\n",
       "  <tbody>\n",
       "    <tr>\n",
       "      <th>AADCDMQTJNYOSS-LBPRGKRZSA-N</th>\n",
       "      <td>CCc1cc(Cl)c(OC)c(C(=O)NC[C@@H]2CCCN2CC)c1O.Cl</td>\n",
       "    </tr>\n",
       "    <tr>\n",
       "      <th>AADVZSXPNRLYLV-GKMXPDSGSA-N</th>\n",
       "      <td>O.O=C(O)[C@H]1[C@@H](O)CC[C@H]2CN3CCc4c([nH]c5...</td>\n",
       "    </tr>\n",
       "    <tr>\n",
       "      <th>AAEVYOVXGOFMJO-UHFFFAOYSA-N</th>\n",
       "      <td>CSc1nc(NC(C)C)nc(NC(C)C)n1</td>\n",
       "    </tr>\n",
       "  </tbody>\n",
       "</table>\n",
       "</div>"
      ],
      "text/plain": [
       "                                                                        Smiles\n",
       "AADCDMQTJNYOSS-LBPRGKRZSA-N      CCc1cc(Cl)c(OC)c(C(=O)NC[C@@H]2CCCN2CC)c1O.Cl\n",
       "AADVZSXPNRLYLV-GKMXPDSGSA-N  O.O=C(O)[C@H]1[C@@H](O)CC[C@H]2CN3CCc4c([nH]c5...\n",
       "AAEVYOVXGOFMJO-UHFFFAOYSA-N                         CSc1nc(NC(C)C)nc(NC(C)C)n1"
      ]
     },
     "execution_count": 20,
     "metadata": {},
     "output_type": "execute_result"
    }
   ],
   "source": [
    "s.head(n=3)"
   ]
  },
  {
   "cell_type": "code",
   "execution_count": 13,
   "metadata": {},
   "outputs": [
    {
     "data": {
      "text/latex": [
       "\\newpage\n"
      ],
      "text/plain": [
       "<IPython.core.display.Latex object>"
      ]
     },
     "metadata": {},
     "output_type": "display_data"
    }
   ],
   "source": [
    "%%latex\n",
    "\\newpage"
   ]
  },
  {
   "cell_type": "markdown",
   "metadata": {},
   "source": [
    "## Reading in multiple Endpoints"
   ]
  },
  {
   "cell_type": "code",
   "execution_count": 6,
   "metadata": {},
   "outputs": [],
   "source": [
    "from JUBioactivities.Tox21_Challenge import read_data, read_structures"
   ]
  },
  {
   "cell_type": "code",
   "execution_count": 7,
   "metadata": {},
   "outputs": [],
   "source": [
    "mt = read_data()"
   ]
  },
  {
   "cell_type": "code",
   "execution_count": 14,
   "metadata": {},
   "outputs": [
    {
     "data": {
      "text/html": [
       "<div>\n",
       "<style scoped>\n",
       "    .dataframe tbody tr th:only-of-type {\n",
       "        vertical-align: middle;\n",
       "    }\n",
       "\n",
       "    .dataframe tbody tr th {\n",
       "        vertical-align: top;\n",
       "    }\n",
       "\n",
       "    .dataframe thead th {\n",
       "        text-align: right;\n",
       "    }\n",
       "</style>\n",
       "<table border=\"1\" class=\"dataframe\">\n",
       "  <thead>\n",
       "    <tr style=\"text-align: right;\">\n",
       "      <th></th>\n",
       "      <th>NR_AhR_Tox21</th>\n",
       "      <th>NR_AR_Tox21</th>\n",
       "      <th>NR_AR_LBD_Tox21</th>\n",
       "      <th>SR_ARE_Tox21</th>\n",
       "      <th>aromatase_Tox21</th>\n",
       "      <th>SR_ATAD5_Tox21</th>\n",
       "      <th>NR_ER_Tox21</th>\n",
       "      <th>NR_ER_LBD_Tox21</th>\n",
       "      <th>SR_HSE_Tox21</th>\n",
       "      <th>SR_MMP_Tox21</th>\n",
       "      <th>SR_p53_Tox21</th>\n",
       "      <th>NR_PPAR_gamma_Tox21</th>\n",
       "    </tr>\n",
       "  </thead>\n",
       "  <tbody>\n",
       "    <tr>\n",
       "      <th>AADCDMQTJNYOSS-LBPRGKRZSA-N</th>\n",
       "      <td>0.0</td>\n",
       "      <td>0.0</td>\n",
       "      <td>0.0</td>\n",
       "      <td>0.0</td>\n",
       "      <td>NaN</td>\n",
       "      <td>0.0</td>\n",
       "      <td>0.0</td>\n",
       "      <td>0.0</td>\n",
       "      <td>0.0</td>\n",
       "      <td>NaN</td>\n",
       "      <td>0.0</td>\n",
       "      <td>NaN</td>\n",
       "    </tr>\n",
       "    <tr>\n",
       "      <th>AADVZSXPNRLYLV-GKMXPDSGSA-N</th>\n",
       "      <td>NaN</td>\n",
       "      <td>0.0</td>\n",
       "      <td>0.0</td>\n",
       "      <td>0.0</td>\n",
       "      <td>0.0</td>\n",
       "      <td>0.0</td>\n",
       "      <td>0.0</td>\n",
       "      <td>0.0</td>\n",
       "      <td>0.0</td>\n",
       "      <td>NaN</td>\n",
       "      <td>0.0</td>\n",
       "      <td>0.0</td>\n",
       "    </tr>\n",
       "    <tr>\n",
       "      <th>AAEVYOVXGOFMJO-UHFFFAOYSA-N</th>\n",
       "      <td>0.0</td>\n",
       "      <td>0.0</td>\n",
       "      <td>0.0</td>\n",
       "      <td>0.0</td>\n",
       "      <td>0.0</td>\n",
       "      <td>0.0</td>\n",
       "      <td>0.0</td>\n",
       "      <td>0.0</td>\n",
       "      <td>0.0</td>\n",
       "      <td>0.0</td>\n",
       "      <td>0.0</td>\n",
       "      <td>0.0</td>\n",
       "    </tr>\n",
       "  </tbody>\n",
       "</table>\n",
       "</div>"
      ],
      "text/plain": [
       "                             NR_AhR_Tox21  NR_AR_Tox21  NR_AR_LBD_Tox21  \\\n",
       "AADCDMQTJNYOSS-LBPRGKRZSA-N           0.0          0.0              0.0   \n",
       "AADVZSXPNRLYLV-GKMXPDSGSA-N           NaN          0.0              0.0   \n",
       "AAEVYOVXGOFMJO-UHFFFAOYSA-N           0.0          0.0              0.0   \n",
       "\n",
       "                             SR_ARE_Tox21  aromatase_Tox21  SR_ATAD5_Tox21  \\\n",
       "AADCDMQTJNYOSS-LBPRGKRZSA-N           0.0              NaN             0.0   \n",
       "AADVZSXPNRLYLV-GKMXPDSGSA-N           0.0              0.0             0.0   \n",
       "AAEVYOVXGOFMJO-UHFFFAOYSA-N           0.0              0.0             0.0   \n",
       "\n",
       "                             NR_ER_Tox21  NR_ER_LBD_Tox21  SR_HSE_Tox21  \\\n",
       "AADCDMQTJNYOSS-LBPRGKRZSA-N          0.0              0.0           0.0   \n",
       "AADVZSXPNRLYLV-GKMXPDSGSA-N          0.0              0.0           0.0   \n",
       "AAEVYOVXGOFMJO-UHFFFAOYSA-N          0.0              0.0           0.0   \n",
       "\n",
       "                             SR_MMP_Tox21  SR_p53_Tox21  NR_PPAR_gamma_Tox21  \n",
       "AADCDMQTJNYOSS-LBPRGKRZSA-N           NaN           0.0                  NaN  \n",
       "AADVZSXPNRLYLV-GKMXPDSGSA-N           NaN           0.0                  0.0  \n",
       "AAEVYOVXGOFMJO-UHFFFAOYSA-N           0.0           0.0                  0.0  "
      ]
     },
     "execution_count": 14,
     "metadata": {},
     "output_type": "execute_result"
    }
   ],
   "source": [
    "a.head()"
   ]
  },
  {
   "cell_type": "code",
   "execution_count": null,
   "metadata": {},
   "outputs": [],
   "source": [
    "mt_s = read_structures()"
   ]
  },
  {
   "cell_type": "code",
   "execution_count": 1,
   "metadata": {},
   "outputs": [
    {
     "ename": "NameError",
     "evalue": "name 'mt_s' is not defined",
     "output_type": "error",
     "traceback": [
      "\u001b[0;31m---------------------------------------------------------------------------\u001b[0m",
      "\u001b[0;31mNameError\u001b[0m                                 Traceback (most recent call last)",
      "\u001b[0;32m<ipython-input-1-dcf538d1c14e>\u001b[0m in \u001b[0;36m<module>\u001b[0;34m\u001b[0m\n\u001b[0;32m----> 1\u001b[0;31m \u001b[0mmt_s\u001b[0m\u001b[0;34m.\u001b[0m\u001b[0mhead\u001b[0m\u001b[0;34m(\u001b[0m\u001b[0;34m)\u001b[0m\u001b[0;34m\u001b[0m\u001b[0;34m\u001b[0m\u001b[0m\n\u001b[0m",
      "\u001b[0;31mNameError\u001b[0m: name 'mt_s' is not defined"
     ]
    }
   ],
   "source": [
    "mt_s.head()"
   ]
  },
  {
   "cell_type": "code",
   "execution_count": null,
   "metadata": {},
   "outputs": [],
   "source": []
  }
 ],
 "metadata": {
  "kernelspec": {
   "display_name": "Python 3",
   "language": "python",
   "name": "python3"
  },
  "language_info": {
   "codemirror_mode": {
    "name": "ipython",
    "version": 3
   },
   "file_extension": ".py",
   "mimetype": "text/x-python",
   "name": "python",
   "nbconvert_exporter": "python",
   "pygments_lexer": "ipython3",
   "version": "3.6.7"
  }
 },
 "nbformat": 4,
 "nbformat_minor": 2
}
